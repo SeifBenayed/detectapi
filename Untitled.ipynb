{
 "cells": [
  {
   "cell_type": "code",
   "execution_count": 5,
   "id": "ec841fad-55a2-476b-b63d-764c4432c879",
   "metadata": {},
   "outputs": [],
   "source": [
    "import requests\n"
   ]
  },
  {
   "cell_type": "code",
   "execution_count": 6,
   "id": "b26c558b-1ad2-47b9-94bb-b3d17860b1ec",
   "metadata": {},
   "outputs": [],
   "source": [
    "\n",
    "def check_text(text: str) -> None:\n",
    "    \"\"\"\n",
    "    Send text to the FastDetectGPT API and print the results.\n",
    "    \n",
    "    Args:\n",
    "        text: The text to analyze\n",
    "    \"\"\"\n",
    "    # API endpoint\n",
    "    url = \"http://localhost:8000/detect\"\n",
    "    \n",
    "    try:\n",
    "        # Make API request\n",
    "        response = requests.post(\n",
    "            url,\n",
    "            json={\"text\": text}\n",
    "        )\n",
    "        \n",
    "        # Check if request was successful\n",
    "        response.raise_for_status()\n",
    "        \n",
    "        # Get results\n",
    "        result = response.json()\n",
    "        \n",
    "        # Print results in a formatted way\n",
    "        print(\"\\nAnalysis Results:\")\n",
    "        print(\"-\" * 50)\n",
    "        print(f\"Text: {text[:200]}{'...' if len(text) > 200 else ''}\")\n",
    "        print(f\"Criterion: {result['criterion']:.4f}\")\n",
    "        print(f\"Probability of being machine-generated: {result['probability']:.1%}\")\n",
    "        print(f\"Number of tokens: {result['num_tokens']}\")\n",
    "        print(f\"Is machine-generated: {result['is_machine_generated']}\")\n",
    "        print(\"-\" * 50)\n",
    "        \n",
    "    except requests.exceptions.RequestException as e:\n",
    "        print(f\"\\nError: {str(e)}\")"
   ]
  },
  {
   "cell_type": "code",
   "execution_count": 7,
   "id": "de14a5e9-a9d3-4afa-83e0-683bdf523012",
   "metadata": {},
   "outputs": [
    {
     "name": "stdout",
     "output_type": "stream",
     "text": [
      "API Status: {'status': 'healthy', 'detector_loaded': True, 'device': 'cuda', 'reference_model': 'falcon-7b', 'scoring_model': 'falcon-7b-instruct'}\n"
     ]
    }
   ],
   "source": [
    " health = requests.get(\"http://localhost:8000/health\")\n",
    "print(\"API Status:\", health.json())"
   ]
  },
  {
   "cell_type": "code",
   "execution_count": 8,
   "id": "ffc6e93a-b064-4e2e-9209-b70ded3f45a0",
   "metadata": {},
   "outputs": [
    {
     "name": "stdout",
     "output_type": "stream",
     "text": [
      "\n",
      "Analysis Results:\n",
      "--------------------------------------------------\n",
      "Text: Nous étions très impatient de découvrir le concept. Les plats étaient délicieux nous avons pris l’entrée buta don (que nous recommandons) et un shoyu ramen.\n",
      "Dommage que la serveuse qui nous prenait en...\n",
      "Criterion: 0.0603\n",
      "Probability of being machine-generated: 6.4%\n",
      "Number of tokens: 105\n",
      "Is machine-generated: False\n",
      "--------------------------------------------------\n"
     ]
    }
   ],
   "source": [
    "check_text(\"Nous étions très impatient de découvrir le concept. Les plats étaient délicieux nous avons pris l’entrée buta don (que nous recommandons) et un shoyu ramen.\\nDommage que la serveuse qui nous prenait en charge était désagréable et pas dutout avenante dans la globalité et jusqu’à la fin. En effet nous avons attendu plus de 20 minutes pour que celle ci nous apporte l’addition de façon nonchalante et un peu brutale.\")"
   ]
  },
  {
   "cell_type": "code",
   "execution_count": 10,
   "id": "f86fe15d-2292-4ced-9af1-42ee87028410",
   "metadata": {},
   "outputs": [
    {
     "ename": "SyntaxError",
     "evalue": "invalid syntax (1019162131.py, line 3)",
     "output_type": "error",
     "traceback": [
      "\u001b[0;36m  Cell \u001b[0;32mIn[10], line 3\u001b[0;36m\u001b[0m\n\u001b[0;31m    sudo apt update\u001b[0m\n\u001b[0m         ^\u001b[0m\n\u001b[0;31mSyntaxError\u001b[0m\u001b[0;31m:\u001b[0m invalid syntax\n"
     ]
    }
   ],
   "source": [
    "# Ajoutez le dépôt NVIDIA\n",
    "distribution=$(. /etc/os-release;echo $ID$VERSION_ID)\n",
    "curl -s -L https://nvidia.github.io/nvidia-docker/gpgkey | sudo apt-key add -\n",
    "curl -s -L https://nvidia.github.io/nvidia-docker/$distribution/nvidia-docker.list | sudo tee /etc/apt/sources.list.d/nvidia-docker.list\n",
    "\n",
    "sudo apt update\n",
    "sudo apt install -y nvidia-docker2\n",
    "sudo systemctl restart docker\n"
   ]
  },
  {
   "cell_type": "code",
   "execution_count": 11,
   "id": "406eadde-335b-49ad-b352-b51a8a7b8ed7",
   "metadata": {},
   "outputs": [
    {
     "ename": "SyntaxError",
     "evalue": "invalid syntax (1635001939.py, line 1)",
     "output_type": "error",
     "traceback": [
      "\u001b[0;36m  Cell \u001b[0;32mIn[11], line 1\u001b[0;36m\u001b[0m\n\u001b[0;31m    sudo apt update\u001b[0m\n\u001b[0m         ^\u001b[0m\n\u001b[0;31mSyntaxError\u001b[0m\u001b[0;31m:\u001b[0m invalid syntax\n"
     ]
    }
   ],
   "source": [
    "sudo apt update"
   ]
  },
  {
   "cell_type": "code",
   "execution_count": null,
   "id": "4850d603-cd71-46b3-aa24-3f90839daced",
   "metadata": {},
   "outputs": [],
   "source": []
  }
 ],
 "metadata": {
  "kernelspec": {
   "display_name": "Pytorch 2.4.0",
   "language": "python",
   "name": "python3"
  },
  "language_info": {
   "codemirror_mode": {
    "name": "ipython",
    "version": 3
   },
   "file_extension": ".py",
   "mimetype": "text/x-python",
   "name": "python",
   "nbconvert_exporter": "python",
   "pygments_lexer": "ipython3",
   "version": "3.11.4"
  }
 },
 "nbformat": 4,
 "nbformat_minor": 5
}
